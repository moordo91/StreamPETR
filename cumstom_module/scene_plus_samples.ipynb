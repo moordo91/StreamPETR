{
 "cells": [
  {
   "cell_type": "code",
   "execution_count": 4,
   "metadata": {},
   "outputs": [],
   "source": [
    "import pickle\n",
    "import json\n",
    "from nuscenes.nuscenes import NuScenes"
   ]
  },
  {
   "cell_type": "code",
   "execution_count": 12,
   "metadata": {},
   "outputs": [
    {
     "name": "stdout",
     "output_type": "stream",
     "text": [
      "======\n",
      "Loading NuScenes tables for version v1.0-test...\n",
      "23 category,\n",
      "8 attribute,\n",
      "4 visibility,\n",
      "0 instance,\n",
      "12 sensor,\n",
      "1800 calibrated_sensor,\n",
      "462901 ego_pose,\n",
      "15 log,\n",
      "150 scene,\n",
      "6008 sample,\n",
      "462901 sample_data,\n",
      "0 sample_annotation,\n",
      "4 map,\n",
      "Done loading in 5.355 seconds.\n",
      "======\n",
      "Reverse indexing ...\n",
      "Done reverse indexing in 0.9 seconds.\n",
      "======\n"
     ]
    }
   ],
   "source": [
    "nusc = NuScenes(version='v1.0-test', dataroot='../data/nuscenes-test/', verbose=True)"
   ]
  },
  {
   "cell_type": "code",
   "execution_count": 58,
   "metadata": {},
   "outputs": [],
   "source": [
    "with open('../data/nuscenes/nuscenes2d_temporal_infos_test.pkl', 'rb') as f:\n",
    "\tval = pickle.load(f)"
   ]
  },
  {
   "cell_type": "code",
   "execution_count": 59,
   "metadata": {},
   "outputs": [],
   "source": [
    "with open('../test/stream_petr_vov_flash_800_bs2_seq_24e/Sun_Nov_12_15_32_19_2023/pts_bbox/results_nusc.json', 'rb') as f:\n",
    "\tres = json.load(f)"
   ]
  },
  {
   "cell_type": "code",
   "execution_count": 13,
   "metadata": {},
   "outputs": [
    {
     "data": {
      "text/plain": [
       "150"
      ]
     },
     "execution_count": 13,
     "metadata": {},
     "output_type": "execute_result"
    }
   ],
   "source": [
    "nbr_scence = len(nusc.scene)\n",
    "nbr_scence"
   ]
  },
  {
   "cell_type": "code",
   "execution_count": 14,
   "metadata": {},
   "outputs": [],
   "source": [
    "def scence_plus_samples(nbr_scence):\n",
    "    new_scence_json = {}\n",
    "    for i in range(nbr_scence):\n",
    "        \n",
    "        my_scene = nusc.scene[i]\n",
    "        first_sample_token = my_scene['first_sample_token']\n",
    "        last_sample_token = my_scene['last_sample_token']\n",
    "        my_scene['list_samples'] = [first_sample_token]\n",
    "        new_scence_json[my_scene['token']] = my_scene\n",
    "        sample_token = first_sample_token\n",
    "        \n",
    "        while True:\n",
    "            my_sample = nusc.get('sample', sample_token)\n",
    "            sample_token = my_sample['next']\n",
    "            my_scene['list_samples'].append(sample_token)\n",
    "            if sample_token == last_sample_token:\n",
    "                break\n",
    "    return new_scence_json"
   ]
  },
  {
   "cell_type": "code",
   "execution_count": 15,
   "metadata": {},
   "outputs": [],
   "source": [
    "new_scence_json = scence_plus_samples(nbr_scence)"
   ]
  },
  {
   "cell_type": "code",
   "execution_count": 16,
   "metadata": {},
   "outputs": [],
   "source": [
    "with open('scence+smaples_test.json', 'w') as f:\n",
    "    json.dump(new_scence_json, f, indent=4)"
   ]
  },
  {
   "cell_type": "code",
   "execution_count": 17,
   "metadata": {},
   "outputs": [],
   "source": [
    "def link_frame_to_scence(detection_result):\n",
    "    \n",
    "    detection_result = iter(detection_result)\n",
    "    present_sample_key = next(detection_result)\n",
    "    scence_plus_frames = {}\n",
    "    \n",
    "    while True:\n",
    "        present_sample = nusc.get('sample', present_sample_key)\n",
    "        present_scence_key = present_sample['scene_token']\n",
    "        if present_scence_key not in scence_plus_frames:\n",
    "            scence_plus_frames[present_scence_key] = []\n",
    "            \n",
    "        scence_plus_frames[present_scence_key].append(present_sample_key)\n",
    "        try:\n",
    "            present_sample_key = next(detection_result)\n",
    "        except StopIteration:\n",
    "            print(\"Mapping Finish without Error.\")\n",
    "            break\n",
    "    \n",
    "    return scence_plus_frames"
   ]
  },
  {
   "cell_type": "code",
   "execution_count": 18,
   "metadata": {},
   "outputs": [
    {
     "ename": "NameError",
     "evalue": "name 'res' is not defined",
     "output_type": "error",
     "traceback": [
      "\u001b[0;31m---------------------------------------------------------------------------\u001b[0m",
      "\u001b[0;31mNameError\u001b[0m                                 Traceback (most recent call last)",
      "\u001b[1;32m/home/dihan/home/StreamPETR/cumstom_module/scence_plus_samples.ipynb Cell 10\u001b[0m line \u001b[0;36m1\n\u001b[0;32m----> <a href='vscode-notebook-cell://ssh-remote%2Bcvlab0.dihan/home/dihan/home/StreamPETR/cumstom_module/scence_plus_samples.ipynb#X12sdnNjb2RlLXJlbW90ZQ%3D%3D?line=0'>1</a>\u001b[0m scence_plus_frames \u001b[39m=\u001b[39m link_frame_to_scence(res[\u001b[39m'\u001b[39m\u001b[39mresults\u001b[39m\u001b[39m'\u001b[39m])\n",
      "\u001b[0;31mNameError\u001b[0m: name 'res' is not defined"
     ]
    }
   ],
   "source": [
    "scence_plus_frames = link_frame_to_scence(res['results'])"
   ]
  },
  {
   "cell_type": "code",
   "execution_count": 90,
   "metadata": {},
   "outputs": [
    {
     "data": {
      "text/plain": [
       "39"
      ]
     },
     "execution_count": 90,
     "metadata": {},
     "output_type": "execute_result"
    }
   ],
   "source": [
    "len(scence_plus_frames['c3ab8ee2c1a54068a72d7eb4cf22e43d'])"
   ]
  },
  {
   "cell_type": "code",
   "execution_count": 89,
   "metadata": {},
   "outputs": [],
   "source": [
    "with open('scence+frames.json', 'w') as f:\n",
    "    json.dump(scence_plus_frames, f, indent=4)"
   ]
  },
  {
   "cell_type": "code",
   "execution_count": 87,
   "metadata": {},
   "outputs": [
    {
     "data": {
      "text/plain": [
       "'30e55a3ec6184d8cb1944b39ba19d622'"
      ]
     },
     "execution_count": 87,
     "metadata": {},
     "output_type": "execute_result"
    }
   ],
   "source": [
    "next(iter(res['results']))"
   ]
  },
  {
   "cell_type": "code",
   "execution_count": null,
   "metadata": {},
   "outputs": [],
   "source": []
  }
 ],
 "metadata": {
  "kernelspec": {
   "display_name": "streampetr",
   "language": "python",
   "name": "python3"
  },
  "language_info": {
   "codemirror_mode": {
    "name": "ipython",
    "version": 3
   },
   "file_extension": ".py",
   "mimetype": "text/x-python",
   "name": "python",
   "nbconvert_exporter": "python",
   "pygments_lexer": "ipython3",
   "version": "3.8.18"
  },
  "orig_nbformat": 4
 },
 "nbformat": 4,
 "nbformat_minor": 2
}
