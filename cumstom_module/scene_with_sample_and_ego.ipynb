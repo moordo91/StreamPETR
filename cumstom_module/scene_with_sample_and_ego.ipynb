{
 "cells": [
  {
   "cell_type": "code",
   "execution_count": 2,
   "metadata": {},
   "outputs": [],
   "source": [
    "import json\n",
    "from tqdm import tqdm"
   ]
  },
  {
   "cell_type": "code",
   "execution_count": 19,
   "metadata": {},
   "outputs": [],
   "source": [
    "with open(\"/home/dihan/home/StreamPETR/data/nuscenes/v1.0-trainval/ego_pose.json\") as f:\n",
    "    ego_pose = json.load(f)"
   ]
  },
  {
   "cell_type": "code",
   "execution_count": 29,
   "metadata": {},
   "outputs": [],
   "source": [
    "with open(\"./scence+smaples.json\") as f:\n",
    "    base = json.load(f)"
   ]
  },
  {
   "cell_type": "code",
   "execution_count": 30,
   "metadata": {},
   "outputs": [],
   "source": [
    "with open(\"/home/dihan/home/StreamPETR/data/nuscenes/v1.0-trainval/sample.json\") as f:\n",
    "    sample = json.load(f)"
   ]
  },
  {
   "cell_type": "code",
   "execution_count": 31,
   "metadata": {},
   "outputs": [],
   "source": [
    "ret = {}"
   ]
  },
  {
   "cell_type": "code",
   "execution_count": 32,
   "metadata": {},
   "outputs": [],
   "source": [
    "for key, _ in base.items():\n",
    "    ret[key] = []"
   ]
  },
  {
   "cell_type": "code",
   "execution_count": 33,
   "metadata": {},
   "outputs": [],
   "source": [
    "def search_ego(ret, key, l):\n",
    "    timestamp = 0\n",
    "    for s in sample:\n",
    "        if s['token'] == l:\n",
    "            timestamp = s['timestamp']\n",
    "    if timestamp == 0:\n",
    "        return l\n",
    "    for e in ego_pose:\n",
    "        if e[\"timestamp\"] == timestamp:\n",
    "            ret[key].append({\n",
    "                \"sample_token\": l,\n",
    "                \"ego_pose_token\": e['token'],\n",
    "                \"translation\": e['translation'],\n",
    "                \"rotation\": e['rotation']\n",
    "            })\n",
    "            return 1\n",
    "    return l"
   ]
  },
  {
   "cell_type": "code",
   "execution_count": 34,
   "metadata": {},
   "outputs": [
    {
     "name": "stderr",
     "output_type": "stream",
     "text": [
      "  0%|          | 0/850 [00:00<?, ?it/s]"
     ]
    },
    {
     "name": "stderr",
     "output_type": "stream",
     "text": [
      "100%|██████████| 850/850 [1:05:22<00:00,  4.62s/it]\n"
     ]
    }
   ],
   "source": [
    "for key, lst in tqdm(base.items()):\n",
    "    for l in lst['list_samples']:\n",
    "        success = search_ego(ret, key, l)\n",
    "        if success != 1:\n",
    "            print(f\"ERROR: {l}\")    \n",
    "    "
   ]
  },
  {
   "cell_type": "code",
   "execution_count": null,
   "metadata": {},
   "outputs": [],
   "source": [
    "with open('scence+sample+ego.json', 'w') as f : \n",
    "\tjson.dump(ret, f, indent=4)"
   ]
  },
  {
   "cell_type": "code",
   "execution_count": null,
   "metadata": {},
   "outputs": [],
   "source": []
  }
 ],
 "metadata": {
  "kernelspec": {
   "display_name": "streampetr",
   "language": "python",
   "name": "python3"
  },
  "language_info": {
   "codemirror_mode": {
    "name": "ipython",
    "version": 3
   },
   "file_extension": ".py",
   "mimetype": "text/x-python",
   "name": "python",
   "nbconvert_exporter": "python",
   "pygments_lexer": "ipython3",
   "version": "3.8.18"
  },
  "orig_nbformat": 4
 },
 "nbformat": 4,
 "nbformat_minor": 2
}
